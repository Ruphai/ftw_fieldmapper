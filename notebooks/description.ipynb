{
 "cells": [
  {
   "cell_type": "markdown",
   "id": "eb4fb513",
   "metadata": {},
   "source": [
    "# Field Boundary Segmentation using FTW and FieldMapper\n",
    "## Project Description\n",
    "In the field of applying Deep Learning to Earth Observation datasets, the evolution of labels and their corresponding scarcity, particularly in certain regions and ecosystems, demands the use of transductive transfer learning approaches. In Agricultural Field Boundary Delineation, very limited large-scale field crop maps are openly available. In this task, we will leverage the availability of large-scale datasets and corresponding models to experiments with the capabilities of these models to transfer to new areas and ecosystems. We will leverage a mix of end-to-end learning using the UNet Attention Models developed by the Agro-Impact groups and a transfer learning approach built on the UNet Attention and Deep Labv3+ models trained on the FTW datasets. These would be tested with different transfer learning approaches such as: 1.) Random Initialization, 2.) Frozen Encoder, and 3.) Unfrozen Encoder. These respective Experiments would be performed using the Field of the World Datasets for Pretraining and Lacuna Labels for finetuning. For comparison, the Lacuna models would be adapted to train on the FTW datasets and a corresponding finetuning experiment would be carried out. The expected outcome is a transferable model for capturing agricultural fields in Africa at high-resolution, leveraging the learned parameters from FTW datasets. \n",
    "\n",
    " \n",
    "## Task Distribution\n",
    "The team members working on this project include: 1.) Rufai Omowunmi Balogun, 2.) Tanmoy Chakraborty, and 3.) Isaiah Taylor. The expected task distribution for the team would be:\n",
    "\n",
    "1.\tRufai Omowunmi Balogun – experiment with the End-to-End Learning for AgroImpact Models on FTW datasets + Data Engineering\n",
    "2.\tTanmoy Chakraborty – experiment with the Finetuning of FTW Models on AgroImpact datasets+ Data Engineering\n",
    "3.\tIsaiah Taylor: Finetuning the AgroImpacts Models after training on the FTW datasets + Data Engineering and Project Documentation. \n",
    "\n",
    "## Task Distribution\n",
    "Both datasets are available on Source Cooperative. Hence, the data access pipeline can be similar and easy to integrate into a dataloader. The Input bands are similar 4 bands each (Red, Green, Blue, and Near IR) but the FTW dataset has 2 time-steps (which should be adapted accordingly for the respective models to enhance compatibility)\n",
    "-\t[Fields of the World](https://source.coop/repositories/kerner-lab/fields-of-the-world/description)\n",
    "-\t[Lacuna Labels](https://source.coop/repositories/fiboa/lacunalabels/description)"
   ]
  }
 ],
 "metadata": {
  "language_info": {
   "name": "python"
  }
 },
 "nbformat": 4,
 "nbformat_minor": 5
}
