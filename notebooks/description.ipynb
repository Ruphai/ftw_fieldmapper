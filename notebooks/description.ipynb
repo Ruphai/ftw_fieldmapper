{
 "cells": [
  {
   "cell_type": "markdown",
   "id": "eb4fb513",
   "metadata": {},
   "source": [
    "# Field Boundary Segmentation using FTW and FieldMapper\n",
    "## Summary\n",
    "(A brief (up to 250 words) description of the project and its objectives (10 points))\n",
    "\n",
    "Datasets:\n",
    "- Field Mapper Datasets and Models, \n",
    "- FTW Datasets and Models\n",
    " \n",
    "## Task Distribution\n",
    "Division of labor: A description of who did what on the project (5 points).\n",
    "\n",
    "Rufai Omowunmi Balogun -- End to End Learning, \n",
    "Tanmoy Chakraborty -- Transfer (Finetuning),\n",
    "Isaiah Taylor -- Data Access and Visualization, \n"
   ]
  }
 ],
 "metadata": {
  "language_info": {
   "name": "python"
  }
 },
 "nbformat": 4,
 "nbformat_minor": 5
}
